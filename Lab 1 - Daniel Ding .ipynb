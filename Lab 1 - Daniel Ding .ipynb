{
 "cells": [
  {
   "cell_type": "code",
   "execution_count": null,
   "metadata": {
    "collapsed": true
   },
   "outputs": [],
   "source": [
    "#Daniel Ding 1004015040"
   ]
  },
  {
   "cell_type": "code",
   "execution_count": 53,
   "metadata": {},
   "outputs": [],
   "source": [
    "def Palindromize(word): \n",
    "    j = (len(word)- 2) #datapath\n",
    "    finalword = word \n",
    "    for i in range(j,-1, -1): #control\n",
    "        finalword = finalword + word[i] #datapath\n",
    "    return finalword"
   ]
  },
  {
   "cell_type": "code",
   "execution_count": 23,
   "metadata": {},
   "outputs": [
    {
     "data": {
      "text/plain": [
       "'abcba'"
      ]
     },
     "execution_count": 23,
     "metadata": {},
     "output_type": "execute_result"
    }
   ],
   "source": [
    "Palindromize(\"abc\")"
   ]
  },
  {
   "cell_type": "code",
   "execution_count": 43,
   "metadata": {
    "collapsed": true
   },
   "outputs": [],
   "source": [
    "def exponent(x,n):\n",
    "    for z in range(1,n,1): #control\n",
    "        x = x*x #datapath\n",
    "    return x"
   ]
  },
  {
   "cell_type": "code",
   "execution_count": 44,
   "metadata": {},
   "outputs": [
    {
     "data": {
      "text/plain": [
       "25"
      ]
     },
     "execution_count": 44,
     "metadata": {},
     "output_type": "execute_result"
    }
   ],
   "source": [
    "exponent(5,2)"
   ]
  },
  {
   "cell_type": "code",
   "execution_count": 54,
   "metadata": {
    "collapsed": true
   },
   "outputs": [],
   "source": [
    "def babylonSqrt(x,accuracy):\n",
    "    guess = float(x/2) #datapath\n",
    "    while((abs(guess**2 - x) > accuracy)): #control\n",
    "        guess = 0.5*(guess + x/guess) #datapath\n",
    "    return guess"
   ]
  },
  {
   "cell_type": "code",
   "execution_count": 27,
   "metadata": {},
   "outputs": [
    {
     "data": {
      "text/plain": [
       "4.001219512195122"
      ]
     },
     "execution_count": 27,
     "metadata": {},
     "output_type": "execute_result"
    }
   ],
   "source": [
    "babylonSqrt(16, 0.01)\n"
   ]
  },
  {
   "cell_type": "code",
   "execution_count": 55,
   "metadata": {
    "collapsed": true
   },
   "outputs": [],
   "source": [
    "def LeibnizPi(n):\n",
    "    pi = 0\n",
    "    for i in range(1,n+1,1): #control\n",
    "        if (i%2 ==0): #control\n",
    "            pi = pi + float(1)/(2*i+1) #datapath\n",
    "        else: #control\n",
    "            pi = pi - float(1)/(2*i+1) #datapath\n",
    "    pi = (pi+1)*4 #datapath\n",
    "    return pi"
   ]
  },
  {
   "cell_type": "code",
   "execution_count": 40,
   "metadata": {},
   "outputs": [
    {
     "data": {
      "text/plain": [
       "3.131592903558553"
      ]
     },
     "execution_count": 40,
     "metadata": {},
     "output_type": "execute_result"
    }
   ],
   "source": [
    "LeibnizPi (99)"
   ]
  },
  {
   "cell_type": "code",
   "execution_count": 46,
   "metadata": {
    "collapsed": true
   },
   "outputs": [],
   "source": [
    "def LeibnizAccuracy(accuracy):\n",
    "    n = 1\n",
    "    while(abs((LeibnizPi (n) - 3.14159265)) > accuracy): #control\n",
    "        n = n + 1 #datapath\n",
    "    return n"
   ]
  },
  {
   "cell_type": "code",
   "execution_count": 47,
   "metadata": {},
   "outputs": [
    {
     "data": {
      "text/plain": [
       "99"
      ]
     },
     "execution_count": 47,
     "metadata": {},
     "output_type": "execute_result"
    }
   ],
   "source": [
    "LeibnizAccuracy(0.01)\n"
   ]
  },
  {
   "cell_type": "code",
   "execution_count": 49,
   "metadata": {},
   "outputs": [],
   "source": [
    "def GCD(a,b):\n",
    "    while(a!=0) and (b!=0): #control\n",
    "          remainder = a%b #datapath\n",
    "          result = a/b #datapath\n",
    "          a = b \n",
    "          b = remainder \n",
    "          \n",
    "    if (a!=0): #control\n",
    "          print a\n",
    "    if (b!=0): #control\n",
    "          print b"
   ]
  },
  {
   "cell_type": "code",
   "execution_count": 50,
   "metadata": {},
   "outputs": [
    {
     "name": "stdout",
     "output_type": "stream",
     "text": [
      "15\n"
     ]
    }
   ],
   "source": [
    "GCD(210, 45)"
   ]
  },
  {
   "cell_type": "code",
   "execution_count": null,
   "metadata": {
    "collapsed": true
   },
   "outputs": [],
   "source": [
    "#1. I would represent the chess board using a list within a list. This would make it easy to reference specific locations\n",
    "# on the chess board; for example, I may use the outer list to define rows of the board, eg. row 1, row 2, row 3...whereas\n",
    "#the inner lists would represent the individual locations on the row, eg. A, B, C, D (horizontally). It is an easily\n",
    "#understandable way of representing the game, allowing the programmer to manipulate the state of each chess piece by\n",
    "#quickly referencing its location. The individual pieces could be identified by either a number (eg. 1 = pawn) or a string\n",
    "#containing the name, depending on which is easier for me to work with (I have never played chess so this is TBD)\n",
    "\n",
    "#2. You could print lines of text representing the rows of the chessboard, and use symbols and letters to 'draw' the board\n",
    "#without an interface. A loop could be used to refresh this 'display' with every new move, updating the user on the game\n",
    "#situation and the location of his/her pieces. This loop would read data from the lists containing position information.\n",
    "#For example: [x]{y}[z]{a}[b]{z}[y]{x}\n",
    "#             { }[ ]{ }[ ]{ }[ ]{ }[ ] \n",
    "#Above is just a simple row showing a potential checkerboard pattern, with the letters representing possible pieces \n",
    "#3. 1. Print state of gameboard\n",
    "#   2. Ask player 1 for input\n",
    "#   3. Analyze the state, (did a piece die, is the game won, is the game at a stalemate, is the game lost)\n",
    "#   4. Repeat for player 2 (assuming another human player)\n"
   ]
  }
 ],
 "metadata": {
  "kernelspec": {
   "display_name": "Python 2",
   "language": "python",
   "name": "python2"
  },
  "language_info": {
   "codemirror_mode": {
    "name": "ipython",
    "version": 2
   },
   "file_extension": ".py",
   "mimetype": "text/x-python",
   "name": "python",
   "nbconvert_exporter": "python",
   "pygments_lexer": "ipython2",
   "version": "2.7.2"
  }
 },
 "nbformat": 4,
 "nbformat_minor": 2
}
